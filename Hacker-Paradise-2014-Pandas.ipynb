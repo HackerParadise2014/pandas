{
 "metadata": {
  "name": "",
  "signature": "sha256:26a9a7b6d11f98291095e949bef6f1767d1faf5425a193f4f67ecd646584bad3"
 },
 "nbformat": 3,
 "nbformat_minor": 0,
 "worksheets": [
  {
   "cells": [
    {
     "cell_type": "markdown",
     "metadata": {},
     "source": [
      "Libraries required\n",
      "=================="
     ]
    },
    {
     "cell_type": "code",
     "collapsed": false,
     "input": [
      "import numpy as np\n",
      "import pandas as pd\n",
      "import matplotlib.pyplot as plt"
     ],
     "language": "python",
     "metadata": {},
     "outputs": [],
     "prompt_number": 2
    },
    {
     "cell_type": "markdown",
     "metadata": {},
     "source": [
      "NumPy `ndarray`\n",
      "==============\n",
      "\n",
      "The ndarray is similar to lists, but rather than being highly flexible by storing different types of objects in one list, only the same type of element can be stored in each column. With NumPy arrays, you can only store the same type of element, e.g., all elements must be floats, integers, or strings. Despite this limitation, ndarray wins hands down when it comes to operation times, as the operations are sped up significantly. \n",
      "\n",
      "Array Creation\n",
      "--------------"
     ]
    },
    {
     "cell_type": "code",
     "collapsed": false,
     "input": [
      "a = np.array([2,3,4])\n",
      "a.dtype"
     ],
     "language": "python",
     "metadata": {},
     "outputs": []
    },
    {
     "cell_type": "markdown",
     "metadata": {},
     "source": [
      "Making a multidimensional array"
     ]
    },
    {
     "cell_type": "code",
     "collapsed": false,
     "input": [
      "b = np.array( [ (1,2,3), (4,5,6) ] )\n",
      "b"
     ],
     "language": "python",
     "metadata": {},
     "outputs": []
    },
    {
     "cell_type": "markdown",
     "metadata": {},
     "source": [
      "To create sequences of numbers, NumPy provides a function analogous to `range` that returns arrays instead of lists"
     ]
    },
    {
     "cell_type": "code",
     "collapsed": false,
     "input": [
      "c = np.arange(15).reshape(3, 5)\n",
      "c"
     ],
     "language": "python",
     "metadata": {},
     "outputs": []
    },
    {
     "cell_type": "markdown",
     "metadata": {},
     "source": [
      "Get the dimensions of the array"
     ]
    },
    {
     "cell_type": "code",
     "collapsed": false,
     "input": [
      "c.shape"
     ],
     "language": "python",
     "metadata": {},
     "outputs": []
    },
    {
     "cell_type": "markdown",
     "metadata": {},
     "source": [
      "Get the number of dimensions"
     ]
    },
    {
     "cell_type": "code",
     "collapsed": false,
     "input": [
      "c.ndim"
     ],
     "language": "python",
     "metadata": {},
     "outputs": []
    },
    {
     "cell_type": "markdown",
     "metadata": {},
     "source": [
      "Get the size of the array i.e. the number of elements in the array"
     ]
    },
    {
     "cell_type": "code",
     "collapsed": false,
     "input": [
      "c.size"
     ],
     "language": "python",
     "metadata": {},
     "outputs": []
    },
    {
     "cell_type": "markdown",
     "metadata": {},
     "source": [
      "Get the types of the data in the array"
     ]
    },
    {
     "cell_type": "code",
     "collapsed": false,
     "input": [
      "c.dtype.name"
     ],
     "language": "python",
     "metadata": {},
     "outputs": []
    },
    {
     "cell_type": "markdown",
     "metadata": {},
     "source": [
      "Often, the elements of an array are originally unknown, but its size is known. Hence, NumPy offers several functions to create arrays with initial placeholder content. These minimize the necessity of growing arrays, an expensive operation.\n",
      "The function zeros creates an array full of zeros, the function ones creates an array full of ones, and the function empty creates an array whose initial content is random and depends on the state of the memory. By default, the dtype of the created array is float64."
     ]
    },
    {
     "cell_type": "code",
     "collapsed": false,
     "input": [
      "np.zeros( (3,4) )"
     ],
     "language": "python",
     "metadata": {},
     "outputs": []
    },
    {
     "cell_type": "code",
     "collapsed": false,
     "input": [
      "np.ones( (2,3,4), dtype='int16' )"
     ],
     "language": "python",
     "metadata": {},
     "outputs": []
    },
    {
     "cell_type": "heading",
     "level": 2,
     "metadata": {},
     "source": [
      "Slicing"
     ]
    },
    {
     "cell_type": "markdown",
     "metadata": {},
     "source": [
      "Python index lists begin at zero and the NumPy arrays follow suit. One can index into an array using a 2D selection where the first element corresponds to the row and the second the column"
     ]
    },
    {
     "cell_type": "code",
     "collapsed": false,
     "input": [
      "arr = np.arange(15).reshape(3, 5)\n",
      "\n",
      "# Select the first row\n",
      "arr[0,:]"
     ],
     "language": "python",
     "metadata": {},
     "outputs": [
      {
       "metadata": {},
       "output_type": "pyout",
       "prompt_number": 125,
       "text": [
        "array([0, 1, 2, 3, 4])"
       ]
      }
     ],
     "prompt_number": 125
    },
    {
     "cell_type": "code",
     "collapsed": false,
     "input": [
      "# Select the second column\n",
      "\n",
      "arr[:,1]"
     ],
     "language": "python",
     "metadata": {},
     "outputs": [
      {
       "metadata": {},
       "output_type": "pyout",
       "prompt_number": 124,
       "text": [
        "array([ 1,  6, 11])"
       ]
      }
     ],
     "prompt_number": 124
    },
    {
     "cell_type": "heading",
     "level": 2,
     "metadata": {},
     "source": [
      "Selection using `where()`"
     ]
    },
    {
     "cell_type": "code",
     "collapsed": false,
     "input": [
      "arr1 = np.arange(5)\n",
      "\n",
      "# Creating the index array\n",
      "index = np.where(arr1 > 2)\n",
      "print index"
     ],
     "language": "python",
     "metadata": {},
     "outputs": [
      {
       "output_type": "stream",
       "stream": "stdout",
       "text": [
        "(array([3, 4]),)\n"
       ]
      }
     ],
     "prompt_number": 126
    },
    {
     "cell_type": "code",
     "collapsed": false,
     "input": [
      "# Creating the desired array\n",
      "new_arr = arr1[index]\n",
      "print new_arr"
     ],
     "language": "python",
     "metadata": {},
     "outputs": [
      {
       "output_type": "stream",
       "stream": "stdout",
       "text": [
        "[3 4]\n"
       ]
      }
     ],
     "prompt_number": 128
    },
    {
     "cell_type": "markdown",
     "metadata": {},
     "source": [
      "However, you may want to remove specific indices instead. To do this you can use numpy.delete(). The required input variables are the array and indices that you want to remove."
     ]
    },
    {
     "cell_type": "code",
     "collapsed": false,
     "input": [
      "deleted_arr = np.delete(arr1, index)\n",
      "print deleted_arr"
     ],
     "language": "python",
     "metadata": {},
     "outputs": [
      {
       "output_type": "stream",
       "stream": "stdout",
       "text": [
        "[0 1 2]\n"
       ]
      }
     ],
     "prompt_number": 129
    },
    {
     "cell_type": "markdown",
     "metadata": {},
     "source": [
      "We can also use **boolean** selections"
     ]
    },
    {
     "cell_type": "code",
     "collapsed": false,
     "input": [
      "new_arr = arr1[arr1 > 2]\n",
      "print "
     ],
     "language": "python",
     "metadata": {},
     "outputs": []
    },
    {
     "cell_type": "markdown",
     "metadata": {},
     "source": [
      "If speed is important, the boolean indexing is faster for a large number of elements. Additionally, you can easily invert True and False objects in an array by using \u223c index, a technique that is far faster than redoing the numpy.where function. Boolean statements are commonly used in combination with the and operator and the or operator. These operators are useful when comparing single boolean values to one another, but when using NumPy arrays, **you can only use & and |**"
     ]
    },
    {
     "cell_type": "markdown",
     "metadata": {},
     "source": [
      "Math\n",
      "----\n",
      "\n",
      "Python comes with its own math module that works on Python native objects. Unfor- tunately, if you try to use math.cos on a NumPy array, it will not work, as the math functions are meant to operate on elements and not on lists or arrays. Hence, NumPy comes with its own set of math tools"
     ]
    },
    {
     "cell_type": "heading",
     "level": 2,
     "metadata": {},
     "source": [
      "Basic Operations"
     ]
    },
    {
     "cell_type": "markdown",
     "metadata": {},
     "source": [
      "Arithmetic operators on arrays apply elementwise. A new array is created and filled with the result."
     ]
    },
    {
     "cell_type": "code",
     "collapsed": false,
     "input": [
      "d = np.array( [20,30,40,50] )\n",
      "e = np.arange( 4 )"
     ],
     "language": "python",
     "metadata": {},
     "outputs": []
    },
    {
     "cell_type": "code",
     "collapsed": false,
     "input": [
      "d - e"
     ],
     "language": "python",
     "metadata": {},
     "outputs": []
    },
    {
     "cell_type": "code",
     "collapsed": false,
     "input": [
      "e**2"
     ],
     "language": "python",
     "metadata": {},
     "outputs": []
    },
    {
     "cell_type": "code",
     "collapsed": false,
     "input": [
      "10*np.sin(d)"
     ],
     "language": "python",
     "metadata": {},
     "outputs": []
    },
    {
     "cell_type": "code",
     "collapsed": false,
     "input": [
      "d<35"
     ],
     "language": "python",
     "metadata": {},
     "outputs": []
    },
    {
     "cell_type": "markdown",
     "metadata": {},
     "source": [
      "Elementwise muliplication"
     ]
    },
    {
     "cell_type": "code",
     "collapsed": false,
     "input": [
      "d*e"
     ],
     "language": "python",
     "metadata": {},
     "outputs": []
    },
    {
     "cell_type": "markdown",
     "metadata": {},
     "source": [
      "Matrix muliplication"
     ]
    },
    {
     "cell_type": "code",
     "collapsed": false,
     "input": [
      "np.dot(d,e)"
     ],
     "language": "python",
     "metadata": {},
     "outputs": []
    },
    {
     "cell_type": "heading",
     "level": 1,
     "metadata": {},
     "source": [
      "SciPy"
     ]
    },
    {
     "cell_type": "markdown",
     "metadata": {},
     "source": [
      "SciPy is a package that utilizes NumPy arrays and manipulations to take on standard problems that scientists and engineers commonly face: integration, determining a function\u2019s maxima or minima, finding eigenvectors for large sparse matrices, testing whether two distributions are the same, and much more."
     ]
    },
    {
     "cell_type": "heading",
     "level": 2,
     "metadata": {},
     "source": [
      "Statistics"
     ]
    },
    {
     "cell_type": "code",
     "collapsed": false,
     "input": [
      "# Constructing a random array with 1000 elements \n",
      "x = np.random.randn(1000)\n",
      "\n",
      "# Calculating several of the built-in methods that numpy.array has\n",
      "\n",
      "mean = x.mean()\n",
      "std = x.std()\n",
      "var = x.var()\n",
      "\n",
      "print \"The means of x is %f with standard deviation %f and variance %f\" % (mean, std, var)"
     ],
     "language": "python",
     "metadata": {},
     "outputs": [
      {
       "output_type": "stream",
       "stream": "stdout",
       "text": [
        "The means of x is -0.015825 with standard deviation 1.025186 and variance 1.051006\n"
       ]
      }
     ],
     "prompt_number": 16
    },
    {
     "cell_type": "code",
     "collapsed": false,
     "input": [
      "# Additionally, there is a handy summary function called # describe, which gives a quick look at the data.\n",
      "out = stats.describe(sample)\n",
      "print '\\nSize = ' + str(out[0])\n",
      "print 'Min = ' + str(out[1][0]) \n",
      "print 'Max = ' + str(out[1][1]) \n",
      "print 'Mean = ' + str(out[2]) \n",
      "print 'Variance = ' + str(out[3]) \n",
      "print 'Skewness = ' + str(out[4]) \n",
      "print 'Kurtosis = ' + str(out[5]) "
     ],
     "language": "python",
     "metadata": {},
     "outputs": [
      {
       "output_type": "stream",
       "stream": "stdout",
       "text": [
        "\n",
        "Size = 100\n",
        "Min = -2.80768455249\n",
        "Max = 2.5355462944\n",
        "Mean = -0.159489257754\n",
        "Variance = 1.02232535671\n",
        "Skewness = -0.0714840796076\n",
        "Kurtosis = -0.106666491627\n"
       ]
      }
     ],
     "prompt_number": 22
    },
    {
     "cell_type": "heading",
     "level": 2,
     "metadata": {},
     "source": [
      "Statistical Tests"
     ]
    },
    {
     "cell_type": "code",
     "collapsed": false,
     "input": [
      "from scipy import stats\n",
      "\n",
      "sample = np.random.randn(100)\n",
      "\n",
      "# normaltest tests the null hypothesis. \n",
      "out = stats.normaltest(sample) \n",
      "print 'normaltest output' \n",
      "print 'Z-score = ' + str(out[0])\n",
      "print 'P-value = ' + str(out[1])"
     ],
     "language": "python",
     "metadata": {},
     "outputs": [
      {
       "output_type": "stream",
       "stream": "stdout",
       "text": [
        "normaltest output\n",
        "Z-score = 0.101895360321\n",
        "P-value = 0.95032839026\n"
       ]
      }
     ],
     "prompt_number": 19
    },
    {
     "cell_type": "code",
     "collapsed": false,
     "input": [
      "# kstest is the Kolmogorov-Smirnov test for goodness of fit.\n",
      "# Here its sample is being tested against the normal distribution. \n",
      "# D is the KS statistic and the closer it is to 0 the better.\n",
      "out = stats.kstest(sample, 'norm')\n",
      "print '\\nkstest output for the Normal distribution'\n",
      "print 'D = ' + str(out[0])\n",
      "print 'P-value = ' + str(out[1])"
     ],
     "language": "python",
     "metadata": {},
     "outputs": [
      {
       "output_type": "stream",
       "stream": "stdout",
       "text": [
        "\n",
        "kstest output for the Normal distribution\n",
        "D = 0.0822343818348\n",
        "P-value = 0.490049912419\n"
       ]
      }
     ],
     "prompt_number": 21
    },
    {
     "cell_type": "heading",
     "level": 2,
     "metadata": {},
     "source": [
      "Optimization and Minimization"
     ]
    },
    {
     "cell_type": "code",
     "collapsed": false,
     "input": [
      "# Linear regression by best fit\n",
      "from scipy.optimize import curve_fit\n",
      "\n",
      "# Creating a function to model and create data\n",
      "def func(x, a, b):\n",
      "    return a*x + b\n",
      "\n",
      "# Generating clean data\n",
      "x = np.linspace(0, 10, 100)\n",
      "y = func(x, 1, 2)\n",
      "\n",
      "# Adding noise to the data\n",
      "yn = y + 0.9*np.random.normal(size = len(x))\n",
      "\n",
      "# Executing curve fit on noisy data\n",
      "popt, pcov = curve_fit(func, x, yn)\n",
      "\n",
      "# popt returns the best fit values for parameters of the given model\n",
      "print popt\n",
      "\n",
      "# In this case the first popt refers to the slope and the second to the intersections \n",
      "# as it is taken by the order of the function\n",
      "# Notice with the result that the slope ~ 1 and the intercept ~ 2 which was the input in our function y"
     ],
     "language": "python",
     "metadata": {},
     "outputs": [
      {
       "output_type": "stream",
       "stream": "stdout",
       "text": [
        "[ 1.02081556  1.93098927]\n"
       ]
      }
     ],
     "prompt_number": 6
    },
    {
     "cell_type": "code",
     "collapsed": false,
     "input": [
      "# You can check the quality of the fit with pcov, where the diagonal elements are the variances for each parameter\n",
      "print pcov"
     ],
     "language": "python",
     "metadata": {},
     "outputs": [
      {
       "output_type": "stream",
       "stream": "stdout",
       "text": [
        "[[ 0.00100534 -0.00502669]\n",
        " [-0.00502669  0.03368053]]\n"
       ]
      }
     ],
     "prompt_number": 4
    },
    {
     "cell_type": "code",
     "collapsed": false,
     "input": [
      "print np.random.randn(30)/10"
     ],
     "language": "python",
     "metadata": {},
     "outputs": [
      {
       "output_type": "stream",
       "stream": "stdout",
       "text": [
        "[ 0.15547291  0.09964217 -0.06768672  0.13905226 -0.06313677 -0.05534221\n",
        " -0.04143569  0.18077221 -0.0867894  -0.04657269 -0.01466156  0.05769356\n",
        " -0.10074834 -0.20722102 -0.12039498  0.03866104  0.00182481  0.14082775\n",
        "  0.07637617 -0.08281886  0.23450064 -0.0263023   0.01676216 -0.05688706\n",
        "  0.03743625  0.09493702  0.00853446  0.20460908  0.04760358  0.07836849]\n"
       ]
      }
     ],
     "prompt_number": 13
    },
    {
     "cell_type": "heading",
     "level": 1,
     "metadata": {},
     "source": [
      "DataFrames"
     ]
    },
    {
     "cell_type": "markdown",
     "metadata": {},
     "source": [
      "Subsetting dataframes\n",
      "---------------------"
     ]
    },
    {
     "cell_type": "markdown",
     "metadata": {},
     "source": [
      "Selecting multiple columns"
     ]
    },
    {
     "cell_type": "code",
     "collapsed": false,
     "input": [
      "frame[[\"tz\", \"al\"]]"
     ],
     "language": "python",
     "metadata": {},
     "outputs": []
    },
    {
     "cell_type": "markdown",
     "metadata": {},
     "source": [
      "Selecting based on conditions"
     ]
    },
    {
     "cell_type": "code",
     "collapsed": false,
     "input": [
      "frame[(frame[\"tz\"] == \"Unknown\") & (frame[\"al\"] == \"en\")]"
     ],
     "language": "python",
     "metadata": {},
     "outputs": []
    },
    {
     "cell_type": "markdown",
     "metadata": {},
     "source": [
      "Using Pandas\n",
      "============\n",
      "\n",
      "Top 10 from JSON\n",
      "----------------\n",
      "\n",
      "Let's get a top ten of a column count from JSON data using pandas DataFrame and make a bar chart\n",
      "\n",
      "First, let's fetch data. This is made up of a dictionary on each line looking like:\n",
      "\n",
      "`{ \"a\": \"Mozilla\\/5.0 (Windows NT 6.1; WOW64) AppleWebKit\\/535.11 (KHTML, like Gecko) Chrome\\/17.0.963.78 Safari\\/535.11\", \"c\": \"US\", \"nk\": 1, \"tz\": \"America\\/New_York\", \"gr\": \"MA\", \"g\": \"A6qOVH\", \"h\": \"wfLQtf\", \"l\": \"orofrog\", \"al\": \"en-US,en;q=0.8\", \"hh\": \"1.usa.gov\", \"r\": \"http:\\/\\/www.facebook.com\\/l\\/7AQEFzjSi\\/1.usa.gov\\/wfLQtf\", \"u\": \"http:\\/\\/www.ncbi.nlm.nih.gov\\/pubmed\\/22415991\", \"t\": 1331923247, \"hc\": 1331822918, \"cy\": \"Danvers\", \"ll\": [ 42.576698, -70.954903 ] }\n",
      "{ \"a\": \"GoogleMaps\\/RochesterNY\", \"c\": \"US\", \"nk\": 0, \"tz\": \"America\\/Denver\", \"gr\": \"UT\", \"g\": \"mwszkS\", \"h\": \"mwszkS\", \"l\": \"bitly\", \"hh\": \"j.mp\", \"r\": \"http:\\/\\/www.AwareMap.com\\/\", \"u\": \"http:\\/\\/www.monroecounty.gov\\/etc\\/911\\/rss.php\", \"t\": 1331923249, \"hc\": 1308262393, \"cy\": \"Provo\", \"ll\": [ 40.218102, -111.613297 ] }\n",
      "{ \"a\": \"Mozilla\\/4.0 (compatible; MSIE 8.0; Windows NT 6.1; WOW64; Trident\\/4.0; SLCC2; .NET CLR 2.0.50727; .NET CLR 3.5.30729; .NET CLR 3.0.30729; Media Center PC 6.0; .NET4.0C; .NET4.0E; InfoPath.3)\", \"c\": \"US\", \"nk\": 1, \"tz\": \"America\\/New_York\", \"gr\": \"DC\", \"g\": \"xxr3Qb\", \"h\": \"xxr3Qb\", \"l\": \"bitly\", \"al\": \"en-US\", \"hh\": \"1.usa.gov\", \"r\": \"http:\\/\\/t.co\\/03elZC4Q\", \"u\": \"http:\\/\\/boxer.senate.gov\\/en\\/press\\/releases\\/031612.cfm\", \"t\": 1331923250, \"hc\": 1331919941, \"cy\": \"Washington\", \"ll\": [ 38.900700, -77.043098 ] }\n",
      "{ \"a\": \"Mozilla\\/5.0 (Macintosh; Intel Mac OS X 10_6_8) AppleWebKit\\/534.52.7 (KHTML, like Gecko) Version\\/5.1.2 Safari\\/534.52.7\", \"c\": \"BR\", \"nk\": 0, \"tz\": \"America\\/Sao_Paulo\", \"gr\": \"27\", \"g\": \"zCaLwp\", \"h\": \"zUtuOu\", \"l\": \"alelex88\", \"al\": \"pt-br\", \"hh\": \"1.usa.gov\", \"r\": \"direct\", \"u\": \"http:\\/\\/apod.nasa.gov\\/apod\\/ap120312.html\", \"t\": 1331923249, \"hc\": 1331923068, \"cy\": \"Braz\", \"ll\": [ -23.549999, -46.616699 ] }`\n",
      "\n",
      "etc"
     ]
    },
    {
     "cell_type": "code",
     "collapsed": false,
     "input": [
      "import json\n",
      "import requests\n",
      "\n",
      "data = requests.get(\"https://raw.githubusercontent.com/pydata/pydata-book/master/ch02/usagov_bitly_data2012-03-16-1331923249.txt\").content\n"
     ],
     "language": "python",
     "metadata": {},
     "outputs": []
    },
    {
     "cell_type": "markdown",
     "metadata": {},
     "source": [
      "Now let's load these dictionaries in a list to form JSON"
     ]
    },
    {
     "cell_type": "code",
     "collapsed": false,
     "input": [
      "data_list = data.split(\"\\n\")\n",
      "json_data = [json.loads(d) for d in data_list[:-1]] # Last line is blank so ignore to build JSON\n",
      "\n",
      "# Check we are getting valid JSON\n",
      "print json_data[0]"
     ],
     "language": "python",
     "metadata": {},
     "outputs": []
    },
    {
     "cell_type": "markdown",
     "metadata": {},
     "source": [
      "Now lets count timezones `tz` with pandas"
     ]
    },
    {
     "cell_type": "code",
     "collapsed": false,
     "input": [
      "from pandas import DataFrame, Series\n",
      "\n",
      "frame = DataFrame(json_data)\n",
      "frame"
     ],
     "language": "python",
     "metadata": {},
     "outputs": []
    },
    {
     "cell_type": "markdown",
     "metadata": {},
     "source": [
      "Get column names"
     ]
    },
    {
     "cell_type": "code",
     "collapsed": false,
     "input": [
      "frame.columns.values"
     ],
     "language": "python",
     "metadata": {},
     "outputs": []
    },
    {
     "cell_type": "markdown",
     "metadata": {},
     "source": [
      "To get the top ten counts of the timezone `tz` we select the column as you would a key from a dictionary and us the function `.value_counts()`"
     ]
    },
    {
     "cell_type": "code",
     "collapsed": false,
     "input": [
      "tz_counts = frame[\"tz\"].value_counts().head(10)\n",
      "print tz_counts"
     ],
     "language": "python",
     "metadata": {},
     "outputs": []
    },
    {
     "cell_type": "markdown",
     "metadata": {},
     "source": [
      "Let's replace the missing values with the word \"Unknown\" so that we have no blank values"
     ]
    },
    {
     "cell_type": "code",
     "collapsed": false,
     "input": [
      "frame[\"tz\"][frame[\"tz\"] == \"\"] = \"Unknown\"\n",
      "tz_counts = frame[\"tz\"].value_counts().head(10)\n",
      "print tz_counts"
     ],
     "language": "python",
     "metadata": {},
     "outputs": []
    },
    {
     "cell_type": "markdown",
     "metadata": {},
     "source": [
      "Let's plot this"
     ]
    },
    {
     "cell_type": "code",
     "collapsed": false,
     "input": [
      "%matplotlib inline \n",
      "tz_counts[:10].plot(kind=\"barh\", rot=0)"
     ],
     "language": "python",
     "metadata": {},
     "outputs": [
      {
       "metadata": {},
       "output_type": "pyout",
       "prompt_number": 121,
       "text": [
        "<matplotlib.axes._subplots.AxesSubplot at 0x7499510>"
       ]
      },
      {
       "metadata": {},
       "output_type": "display_data",
       "png": "[encoded data removed]",
       "text": [
        "<matplotlib.figure.Figure at 0x7a5ce90>"
       ]
      }
     ],
     "prompt_number": 121
    },
    {
     "cell_type": "code",
     "collapsed": false,
     "input": [],
     "language": "python",
     "metadata": {},
     "outputs": []
    }
   ],
   "metadata": {}
  }
 ]
}